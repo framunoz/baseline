{
 "cells": [
  {
   "cell_type": "markdown",
   "id": "030b7e4a",
   "metadata": {},
   "source": [
    "# Imports"
   ]
  },
  {
   "cell_type": "code",
   "execution_count": 1,
   "id": "375d6638",
   "metadata": {},
   "outputs": [],
   "source": [
    "from despliegue.loaders import *\n",
    "from despliegue.nodos import *\n",
    "from despliegue.contenedores import *\n",
    "from despliegue.solvers import *\n",
    "import pandas as pd\n",
    "from os import path"
   ]
  },
  {
   "cell_type": "markdown",
   "id": "561b8be6",
   "metadata": {},
   "source": [
    "# Constantes"
   ]
  },
  {
   "cell_type": "markdown",
   "id": "bb38ed7a",
   "metadata": {},
   "source": [
    "Se definen las rutas de los datos, y también el `DataFrame` de la Red Móvil, ya que no posee la vacancia, y hay que asignarla a mano."
   ]
  },
  {
   "cell_type": "code",
   "execution_count": 2,
   "id": "ceb40b83",
   "metadata": {},
   "outputs": [],
   "source": [
    "PATH_DATA = path.join(\"./data/\")  # Path donde estarán los Excels\n",
    "PATH_CLIENTES = path.join(PATH_DATA, \"Direcciones_Colina.xlsx\")  # Path de los clientes\n",
    "PATH_FO = path.join(PATH_DATA, \"CTO_Colina.xlsx\")  # Path donde estará las CTO's\n",
    "PATH_RM = path.join(PATH_DATA, \"SITIOS 4G TDD.xlsx\")  # Path donde estarán las antenas de RM"
   ]
  },
  {
   "cell_type": "code",
   "execution_count": 3,
   "id": "05285141",
   "metadata": {},
   "outputs": [
    {
     "data": {
      "text/html": [
       "<div>\n",
       "<style scoped>\n",
       "    .dataframe tbody tr th:only-of-type {\n",
       "        vertical-align: middle;\n",
       "    }\n",
       "\n",
       "    .dataframe tbody tr th {\n",
       "        vertical-align: top;\n",
       "    }\n",
       "\n",
       "    .dataframe thead th {\n",
       "        text-align: right;\n",
       "    }\n",
       "</style>\n",
       "<table border=\"1\" class=\"dataframe\">\n",
       "  <thead>\n",
       "    <tr style=\"text-align: right;\">\n",
       "      <th></th>\n",
       "      <th>pcm_area_tel</th>\n",
       "      <th>gl_lat_OK</th>\n",
       "      <th>gl_lon_OK</th>\n",
       "    </tr>\n",
       "  </thead>\n",
       "  <tbody>\n",
       "    <tr>\n",
       "      <th>count</th>\n",
       "      <td>2.750000e+02</td>\n",
       "      <td>275.000000</td>\n",
       "      <td>275.000000</td>\n",
       "    </tr>\n",
       "    <tr>\n",
       "      <th>mean</th>\n",
       "      <td>2.286022e+08</td>\n",
       "      <td>-33.200679</td>\n",
       "      <td>-70.672530</td>\n",
       "    </tr>\n",
       "    <tr>\n",
       "      <th>std</th>\n",
       "      <td>1.034212e+06</td>\n",
       "      <td>0.013769</td>\n",
       "      <td>0.011696</td>\n",
       "    </tr>\n",
       "    <tr>\n",
       "      <th>min</th>\n",
       "      <td>2.240048e+08</td>\n",
       "      <td>-33.301086</td>\n",
       "      <td>-70.723406</td>\n",
       "    </tr>\n",
       "    <tr>\n",
       "      <th>25%</th>\n",
       "      <td>2.284422e+08</td>\n",
       "      <td>-33.207438</td>\n",
       "      <td>-70.679538</td>\n",
       "    </tr>\n",
       "    <tr>\n",
       "      <th>50%</th>\n",
       "      <td>2.284444e+08</td>\n",
       "      <td>-33.202714</td>\n",
       "      <td>-70.673384</td>\n",
       "    </tr>\n",
       "    <tr>\n",
       "      <th>75%</th>\n",
       "      <td>2.284477e+08</td>\n",
       "      <td>-33.192004</td>\n",
       "      <td>-70.666531</td>\n",
       "    </tr>\n",
       "    <tr>\n",
       "      <th>max</th>\n",
       "      <td>2.329671e+08</td>\n",
       "      <td>-33.173324</td>\n",
       "      <td>-70.632150</td>\n",
       "    </tr>\n",
       "  </tbody>\n",
       "</table>\n",
       "</div>"
      ],
      "text/plain": [
       "       pcm_area_tel   gl_lat_OK   gl_lon_OK\n",
       "count  2.750000e+02  275.000000  275.000000\n",
       "mean   2.286022e+08  -33.200679  -70.672530\n",
       "std    1.034212e+06    0.013769    0.011696\n",
       "min    2.240048e+08  -33.301086  -70.723406\n",
       "25%    2.284422e+08  -33.207438  -70.679538\n",
       "50%    2.284444e+08  -33.202714  -70.673384\n",
       "75%    2.284477e+08  -33.192004  -70.666531\n",
       "max    2.329671e+08  -33.173324  -70.632150"
      ]
     },
     "execution_count": 3,
     "metadata": {},
     "output_type": "execute_result"
    }
   ],
   "source": [
    "df_clientes = pd.read_excel(PATH_CLIENTES)\n",
    "df_clientes = df_clientes[df_clientes.gl_lat_OK <= -1]  # limpiamos aquellos que sean de lat-lon=0\n",
    "df_clientes.describe()"
   ]
  },
  {
   "cell_type": "code",
   "execution_count": 4,
   "id": "7f63351b",
   "metadata": {},
   "outputs": [
    {
     "data": {
      "text/html": [
       "<div>\n",
       "<style scoped>\n",
       "    .dataframe tbody tr th:only-of-type {\n",
       "        vertical-align: middle;\n",
       "    }\n",
       "\n",
       "    .dataframe tbody tr th {\n",
       "        vertical-align: top;\n",
       "    }\n",
       "\n",
       "    .dataframe thead th {\n",
       "        text-align: right;\n",
       "    }\n",
       "</style>\n",
       "<table border=\"1\" class=\"dataframe\">\n",
       "  <thead>\n",
       "    <tr style=\"text-align: right;\">\n",
       "      <th></th>\n",
       "      <th>id_pto_ftth</th>\n",
       "      <th>latitud_ok</th>\n",
       "      <th>longitud_ok</th>\n",
       "      <th>eqpt_capacity</th>\n",
       "      <th>eqpt_vg_qty</th>\n",
       "      <th>oc_ds</th>\n",
       "      <th>porcentaje_ocup_caja</th>\n",
       "    </tr>\n",
       "  </thead>\n",
       "  <tbody>\n",
       "    <tr>\n",
       "      <th>count</th>\n",
       "      <td>3.484000e+03</td>\n",
       "      <td>3484.000000</td>\n",
       "      <td>3484.000000</td>\n",
       "      <td>3484.000000</td>\n",
       "      <td>3484.00000</td>\n",
       "      <td>3484.00000</td>\n",
       "      <td>3484.000000</td>\n",
       "    </tr>\n",
       "    <tr>\n",
       "      <th>mean</th>\n",
       "      <td>2.476223e+06</td>\n",
       "      <td>-33.202056</td>\n",
       "      <td>-70.673801</td>\n",
       "      <td>7.756889</td>\n",
       "      <td>5.74225</td>\n",
       "      <td>2.00287</td>\n",
       "      <td>23.659374</td>\n",
       "    </tr>\n",
       "    <tr>\n",
       "      <th>std</th>\n",
       "      <td>4.067262e+05</td>\n",
       "      <td>0.013274</td>\n",
       "      <td>0.009063</td>\n",
       "      <td>0.839911</td>\n",
       "      <td>1.56150</td>\n",
       "      <td>1.40341</td>\n",
       "      <td>17.531295</td>\n",
       "    </tr>\n",
       "    <tr>\n",
       "      <th>min</th>\n",
       "      <td>1.758698e+06</td>\n",
       "      <td>-33.222792</td>\n",
       "      <td>-70.711280</td>\n",
       "      <td>1.000000</td>\n",
       "      <td>1.00000</td>\n",
       "      <td>0.00000</td>\n",
       "      <td>0.000000</td>\n",
       "    </tr>\n",
       "    <tr>\n",
       "      <th>25%</th>\n",
       "      <td>2.120851e+06</td>\n",
       "      <td>-33.214408</td>\n",
       "      <td>-70.681072</td>\n",
       "      <td>8.000000</td>\n",
       "      <td>5.00000</td>\n",
       "      <td>1.00000</td>\n",
       "      <td>12.500000</td>\n",
       "    </tr>\n",
       "    <tr>\n",
       "      <th>50%</th>\n",
       "      <td>2.478504e+06</td>\n",
       "      <td>-33.203207</td>\n",
       "      <td>-70.673720</td>\n",
       "      <td>8.000000</td>\n",
       "      <td>6.00000</td>\n",
       "      <td>2.00000</td>\n",
       "      <td>25.000000</td>\n",
       "    </tr>\n",
       "    <tr>\n",
       "      <th>75%</th>\n",
       "      <td>2.828275e+06</td>\n",
       "      <td>-33.190197</td>\n",
       "      <td>-70.667940</td>\n",
       "      <td>8.000000</td>\n",
       "      <td>7.00000</td>\n",
       "      <td>3.00000</td>\n",
       "      <td>37.500000</td>\n",
       "    </tr>\n",
       "    <tr>\n",
       "      <th>max</th>\n",
       "      <td>3.177018e+06</td>\n",
       "      <td>-33.176260</td>\n",
       "      <td>-70.649690</td>\n",
       "      <td>9.000000</td>\n",
       "      <td>8.00000</td>\n",
       "      <td>5.00000</td>\n",
       "      <td>57.140000</td>\n",
       "    </tr>\n",
       "  </tbody>\n",
       "</table>\n",
       "</div>"
      ],
      "text/plain": [
       "        id_pto_ftth   latitud_ok  longitud_ok  eqpt_capacity  eqpt_vg_qty  \\\n",
       "count  3.484000e+03  3484.000000  3484.000000    3484.000000   3484.00000   \n",
       "mean   2.476223e+06   -33.202056   -70.673801       7.756889      5.74225   \n",
       "std    4.067262e+05     0.013274     0.009063       0.839911      1.56150   \n",
       "min    1.758698e+06   -33.222792   -70.711280       1.000000      1.00000   \n",
       "25%    2.120851e+06   -33.214408   -70.681072       8.000000      5.00000   \n",
       "50%    2.478504e+06   -33.203207   -70.673720       8.000000      6.00000   \n",
       "75%    2.828275e+06   -33.190197   -70.667940       8.000000      7.00000   \n",
       "max    3.177018e+06   -33.176260   -70.649690       9.000000      8.00000   \n",
       "\n",
       "            oc_ds  porcentaje_ocup_caja  \n",
       "count  3484.00000           3484.000000  \n",
       "mean      2.00287             23.659374  \n",
       "std       1.40341             17.531295  \n",
       "min       0.00000              0.000000  \n",
       "25%       1.00000             12.500000  \n",
       "50%       2.00000             25.000000  \n",
       "75%       3.00000             37.500000  \n",
       "max       5.00000             57.140000  "
      ]
     },
     "execution_count": 4,
     "metadata": {},
     "output_type": "execute_result"
    }
   ],
   "source": [
    "df_fo = pd.read_excel(PATH_FO)\n",
    "df_fo.describe()"
   ]
  },
  {
   "cell_type": "code",
   "execution_count": 5,
   "id": "650d8ec2",
   "metadata": {},
   "outputs": [
    {
     "data": {
      "text/html": [
       "<div>\n",
       "<style scoped>\n",
       "    .dataframe tbody tr th:only-of-type {\n",
       "        vertical-align: middle;\n",
       "    }\n",
       "\n",
       "    .dataframe tbody tr th {\n",
       "        vertical-align: top;\n",
       "    }\n",
       "\n",
       "    .dataframe thead th {\n",
       "        text-align: right;\n",
       "    }\n",
       "</style>\n",
       "<table border=\"1\" class=\"dataframe\">\n",
       "  <thead>\n",
       "    <tr style=\"text-align: right;\">\n",
       "      <th></th>\n",
       "      <th>LATITUD</th>\n",
       "      <th>LONGITUD</th>\n",
       "      <th>vacancia</th>\n",
       "    </tr>\n",
       "  </thead>\n",
       "  <tbody>\n",
       "    <tr>\n",
       "      <th>count</th>\n",
       "      <td>99.000000</td>\n",
       "      <td>99.000000</td>\n",
       "      <td>99.0</td>\n",
       "    </tr>\n",
       "    <tr>\n",
       "      <th>mean</th>\n",
       "      <td>-33.504739</td>\n",
       "      <td>-70.714568</td>\n",
       "      <td>30.0</td>\n",
       "    </tr>\n",
       "    <tr>\n",
       "      <th>std</th>\n",
       "      <td>0.116812</td>\n",
       "      <td>0.102712</td>\n",
       "      <td>0.0</td>\n",
       "    </tr>\n",
       "    <tr>\n",
       "      <th>min</th>\n",
       "      <td>-33.810990</td>\n",
       "      <td>-71.225640</td>\n",
       "      <td>30.0</td>\n",
       "    </tr>\n",
       "    <tr>\n",
       "      <th>25%</th>\n",
       "      <td>-33.576260</td>\n",
       "      <td>-70.746720</td>\n",
       "      <td>30.0</td>\n",
       "    </tr>\n",
       "    <tr>\n",
       "      <th>50%</th>\n",
       "      <td>-33.509860</td>\n",
       "      <td>-70.695800</td>\n",
       "      <td>30.0</td>\n",
       "    </tr>\n",
       "    <tr>\n",
       "      <th>75%</th>\n",
       "      <td>-33.409805</td>\n",
       "      <td>-70.664650</td>\n",
       "      <td>30.0</td>\n",
       "    </tr>\n",
       "    <tr>\n",
       "      <th>max</th>\n",
       "      <td>-33.205890</td>\n",
       "      <td>-70.537380</td>\n",
       "      <td>30.0</td>\n",
       "    </tr>\n",
       "  </tbody>\n",
       "</table>\n",
       "</div>"
      ],
      "text/plain": [
       "         LATITUD   LONGITUD  vacancia\n",
       "count  99.000000  99.000000      99.0\n",
       "mean  -33.504739 -70.714568      30.0\n",
       "std     0.116812   0.102712       0.0\n",
       "min   -33.810990 -71.225640      30.0\n",
       "25%   -33.576260 -70.746720      30.0\n",
       "50%   -33.509860 -70.695800      30.0\n",
       "75%   -33.409805 -70.664650      30.0\n",
       "max   -33.205890 -70.537380      30.0"
      ]
     },
     "execution_count": 5,
     "metadata": {},
     "output_type": "execute_result"
    }
   ],
   "source": [
    "df_rm = pd.read_excel(PATH_RM)\n",
    "df_rm[\"vacancia\"] = 30\n",
    "df_rm.describe()"
   ]
  },
  {
   "cell_type": "code",
   "execution_count": 6,
   "id": "15e65d24",
   "metadata": {},
   "outputs": [
    {
     "data": {
      "text/html": [
       "<div>\n",
       "<style scoped>\n",
       "    .dataframe tbody tr th:only-of-type {\n",
       "        vertical-align: middle;\n",
       "    }\n",
       "\n",
       "    .dataframe tbody tr th {\n",
       "        vertical-align: top;\n",
       "    }\n",
       "\n",
       "    .dataframe thead th {\n",
       "        text-align: right;\n",
       "    }\n",
       "</style>\n",
       "<table border=\"1\" class=\"dataframe\">\n",
       "  <thead>\n",
       "    <tr style=\"text-align: right;\">\n",
       "      <th></th>\n",
       "      <th>NEMONICO</th>\n",
       "      <th>LATITUD</th>\n",
       "      <th>LONGITUD</th>\n",
       "      <th>vacancia</th>\n",
       "    </tr>\n",
       "  </thead>\n",
       "  <tbody>\n",
       "    <tr>\n",
       "      <th>0</th>\n",
       "      <td>CURAOD13</td>\n",
       "      <td>-33.402400</td>\n",
       "      <td>-71.128100</td>\n",
       "      <td>30</td>\n",
       "    </tr>\n",
       "    <tr>\n",
       "      <th>1</th>\n",
       "      <td>MONG1D13</td>\n",
       "      <td>-33.677625</td>\n",
       "      <td>-70.999925</td>\n",
       "      <td>30</td>\n",
       "    </tr>\n",
       "    <tr>\n",
       "      <th>2</th>\n",
       "      <td>CCHC1D13</td>\n",
       "      <td>-33.392800</td>\n",
       "      <td>-70.672800</td>\n",
       "      <td>30</td>\n",
       "    </tr>\n",
       "    <tr>\n",
       "      <th>3</th>\n",
       "      <td>CATC2D13</td>\n",
       "      <td>-33.407100</td>\n",
       "      <td>-70.681000</td>\n",
       "      <td>30</td>\n",
       "    </tr>\n",
       "    <tr>\n",
       "      <th>4</th>\n",
       "      <td>ALDEFD13</td>\n",
       "      <td>-33.533130</td>\n",
       "      <td>-70.635310</td>\n",
       "      <td>30</td>\n",
       "    </tr>\n",
       "  </tbody>\n",
       "</table>\n",
       "</div>"
      ],
      "text/plain": [
       "   NEMONICO    LATITUD   LONGITUD  vacancia\n",
       "0  CURAOD13 -33.402400 -71.128100        30\n",
       "1  MONG1D13 -33.677625 -70.999925        30\n",
       "2  CCHC1D13 -33.392800 -70.672800        30\n",
       "3  CATC2D13 -33.407100 -70.681000        30\n",
       "4  ALDEFD13 -33.533130 -70.635310        30"
      ]
     },
     "execution_count": 6,
     "metadata": {},
     "output_type": "execute_result"
    }
   ],
   "source": [
    "df_rm.head()"
   ]
  },
  {
   "cell_type": "markdown",
   "id": "b172d10a",
   "metadata": {},
   "source": [
    "# Conexión a los Datos"
   ]
  },
  {
   "cell_type": "markdown",
   "id": "05afc2ed",
   "metadata": {},
   "source": [
    "Creamos las instancias de conexión a la base de datos. Observar que para `rm_db` le entregamos el `DataFrame` directamente."
   ]
  },
  {
   "cell_type": "code",
   "execution_count": 7,
   "id": "07a7fcca",
   "metadata": {},
   "outputs": [],
   "source": [
    "cliente_db = ClienteDB(df=df_clientes, col_names=[\"pcm_area_tel\", \"gl_lat_OK\", \"gl_lon_OK\"])\n",
    "fo_db = OfertaDB(df=df_fo, col_names=[\"id_pto_ftth\", \"latitud_ok\", \"longitud_ok\", \"eqpt_vg_qty\"])\n",
    "rm_db = OfertaDB(df=df_rm)  # Las columnas justamente están ordenadas en [id, lat, lon, vac]"
   ]
  },
  {
   "cell_type": "markdown",
   "id": "916acaa8",
   "metadata": {},
   "source": [
    "# Conjuntos de Nodos"
   ]
  },
  {
   "cell_type": "markdown",
   "id": "6bee8242",
   "metadata": {},
   "source": [
    "Creamos los conjuntos de nodos utilizando los loaders de la parte anterior"
   ]
  },
  {
   "cell_type": "code",
   "execution_count": 8,
   "id": "b534146d",
   "metadata": {},
   "outputs": [],
   "source": [
    "nodos_oferta = NodosOferta(fo_db, rm_db)\n",
    "nodos_demanda = NodosDemanda(cliente_db)"
   ]
  },
  {
   "cell_type": "markdown",
   "id": "55971aca",
   "metadata": {},
   "source": [
    "# Optimización"
   ]
  },
  {
   "cell_type": "markdown",
   "id": "74e746bb",
   "metadata": {},
   "source": [
    "Creamos una instancia del tercer solver, que se corresponde con el siguiente modelo:\n",
    "\\begin{equation}\n",
    "\\left\\{\\begin{array}{rll}\n",
    "\\max & \\sum_{i=1}^{n} \\sum_{j\\in N(i)} c_{ij} x_{ij} & \\\\\n",
    "\\mbox{s.a.} & \\sum_{j\\in N(i)} x_{ij} \\leq O_i.vac & \\forall i = 1:n \\\\\n",
    "& \\sum_{i \\in N(j)} x_{ij} = 1 & \\forall j = 1 : m \\\\\n",
    "& x_{ij} \\in \\{0, 1\\} &\n",
    "\\end{array}\\right.\n",
    "\\end{equation}\n",
    "\n",
    "Donde $N(i)$ son los vecinos del vértice $i$. Y consideramos a las aristas \n",
    "$$E = \\{\n",
    "ij \\ | \\ i \\in FO, \\ j=1:m, \\ O_i.\\mbox{dist}_1(D_j) \\leq C_{FO}\n",
    "\\} \\cup \\{\n",
    "ij \\ | \\ i \\in RM, \\ j=1:m, \\ O_i.\\mbox{dist}_2(D_j) \\leq C_{RM}\n",
    "\\}$$\n",
    "\n",
    "Además, interpretamos a la matriz $(c_{ij})_{ij}$ como una matriz de prioridad, donde se le dará mayor prioridad a la arista $ij$ en tanto tenga mayor $c_{ij}$. Consideramos la siguiente matriz:\n",
    "\\begin{equation}\n",
    "c_{ij}\n",
    "= \\begin{cases}\n",
    "\\frac{a}{O_i.\\mbox{dist}_1(D_j) + \\varepsilon} & i \\in FO \\\\\n",
    "\\frac{b}{O_i.\\mbox{dist}_2(D_j) + \\varepsilon} & i \\in RM \\\\\n",
    "0 & \\mbox{en cualquier otro caso}\n",
    "\\end{cases}\n",
    "\\end{equation}\n",
    "\n",
    "Intuitivamente, lo que hace es darle mayor prioridad a aquellos clientes que estén más cerca a cierta CTO o RM. "
   ]
  },
  {
   "cell_type": "code",
   "execution_count": 9,
   "id": "aa4d4ba5",
   "metadata": {},
   "outputs": [
    {
     "name": "stdout",
     "output_type": "stream",
     "text": [
      "Construyendo modelo...\n",
      "Definiendo función objetivo...\n",
      "Definiendo restricciones...\n",
      "Empezando a resolver...\n",
      "Estado: Optimal\n"
     ]
    }
   ],
   "source": [
    "modelo3 = Solver3(nodos_oferta, nodos_demanda, a=2, b=1, c_fo=150, c_rm=600, verbose=True)\n",
    "modelo3.resolver()"
   ]
  },
  {
   "cell_type": "code",
   "execution_count": 10,
   "id": "da98f399",
   "metadata": {},
   "outputs": [
    {
     "name": "stdout",
     "output_type": "stream",
     "text": [
      "Salvando resultados...\n",
      "Resultados Salvados!\n"
     ]
    }
   ],
   "source": [
    "modelo3.save(path.join(PATH_DATA, \"resultado.xlsx\"))"
   ]
  },
  {
   "cell_type": "markdown",
   "id": "b01ba1ea",
   "metadata": {},
   "source": [
    "Observamos que considerar este modelo reduce de casi un millón de variables a casi 4500, aumentando mucho la eficiencia en el tiempo."
   ]
  },
  {
   "cell_type": "code",
   "execution_count": 11,
   "id": "5eab5c05",
   "metadata": {},
   "outputs": [
    {
     "data": {
      "text/plain": [
       "(985600, 4512)"
      ]
     },
     "execution_count": 11,
     "metadata": {},
     "output_type": "execute_result"
    }
   ],
   "source": [
    "modelo1 = Solver1(nodos_oferta, nodos_demanda)\n",
    "modelo3 = Solver3(nodos_oferta, nodos_demanda)\n",
    "len(modelo1.x), len(modelo3.x)"
   ]
  }
 ],
 "metadata": {
  "kernelspec": {
   "display_name": "venv",
   "language": "python",
   "name": "venv"
  },
  "language_info": {
   "codemirror_mode": {
    "name": "ipython",
    "version": 3
   },
   "file_extension": ".py",
   "mimetype": "text/x-python",
   "name": "python",
   "nbconvert_exporter": "python",
   "pygments_lexer": "ipython3",
   "version": "3.9.7"
  }
 },
 "nbformat": 4,
 "nbformat_minor": 5
}
