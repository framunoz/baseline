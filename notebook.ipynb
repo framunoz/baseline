{
 "cells": [
  {
   "cell_type": "markdown",
   "id": "0",
   "metadata": {},
   "source": [
    "# Imports"
   ]
  },
  {
   "cell_type": "code",
   "execution_count": null,
   "id": "1",
   "metadata": {},
   "outputs": [],
   "source": [
    "from despliegue.loaders import *\n",
    "from despliegue.nodos import *\n",
    "from despliegue.contenedores import *\n",
    "from despliegue.solvers import *\n",
    "import pandas as pd\n",
    "from os import path"
   ]
  },
  {
   "cell_type": "markdown",
   "id": "2",
   "metadata": {},
   "source": [
    "# Constantes"
   ]
  },
  {
   "cell_type": "markdown",
   "id": "3",
   "metadata": {},
   "source": [
    "Se definen las rutas de los datos, y también el `DataFrame` de la Red Móvil, ya que no posee la vacancia, y hay que asignarla a mano."
   ]
  },
  {
   "cell_type": "code",
   "execution_count": null,
   "id": "4",
   "metadata": {},
   "outputs": [],
   "source": [
    "PATH_DATA = path.join(\"./data/\")  # Path donde estarán los Excels\n",
    "PATH_CLIENTES = path.join(PATH_DATA, \"Direcciones_Colina.xlsx\")  # Path de los clientes\n",
    "PATH_FO = path.join(PATH_DATA, \"CTO_Colina.xlsx\")  # Path donde estará las CTO's\n",
    "PATH_RM = path.join(PATH_DATA, \"SITIOS 4G TDD.xlsx\")  # Path donde estarán las antenas de RM"
   ]
  },
  {
   "cell_type": "code",
   "execution_count": null,
   "id": "5",
   "metadata": {},
   "outputs": [],
   "source": [
    "df_clientes = pd.read_excel(PATH_CLIENTES)\n",
    "df_clientes = df_clientes[df_clientes.gl_lat_OK <= -1]  # limpiamos aquellos que sean de lat-lon=0\n",
    "df_clientes.describe()"
   ]
  },
  {
   "cell_type": "code",
   "execution_count": null,
   "id": "6",
   "metadata": {},
   "outputs": [],
   "source": [
    "df_fo = pd.read_excel(PATH_FO)\n",
    "df_fo.describe()"
   ]
  },
  {
   "cell_type": "code",
   "execution_count": null,
   "id": "7",
   "metadata": {},
   "outputs": [],
   "source": [
    "df_rm = pd.read_excel(PATH_RM)\n",
    "df_rm[\"vacancia\"] = 30\n",
    "df_rm.describe()"
   ]
  },
  {
   "cell_type": "code",
   "execution_count": null,
   "id": "8",
   "metadata": {},
   "outputs": [],
   "source": [
    "df_rm.head()"
   ]
  },
  {
   "cell_type": "markdown",
   "id": "9",
   "metadata": {},
   "source": [
    "# Conexión a los Datos"
   ]
  },
  {
   "cell_type": "markdown",
   "id": "10",
   "metadata": {},
   "source": [
    "Creamos las instancias de conexión a la base de datos. Observar que para `rm_db` le entregamos el `DataFrame` directamente."
   ]
  },
  {
   "cell_type": "code",
   "execution_count": null,
   "id": "11",
   "metadata": {},
   "outputs": [],
   "source": [
    "cliente_db = ClienteDB(df=df_clientes, col_names=[\"pcm_area_tel\", \"gl_lat_OK\", \"gl_lon_OK\"])\n",
    "fo_db = OfertaDB(df=df_fo, col_names=[\"id_pto_ftth\", \"latitud_ok\", \"longitud_ok\", \"eqpt_vg_qty\"])\n",
    "rm_db = OfertaDB(df=df_rm)  # Las columnas justamente están ordenadas en [id, lat, lon, vac]"
   ]
  },
  {
   "cell_type": "markdown",
   "id": "12",
   "metadata": {},
   "source": [
    "# Conjuntos de Nodos"
   ]
  },
  {
   "cell_type": "markdown",
   "id": "13",
   "metadata": {},
   "source": [
    "Creamos los conjuntos de nodos utilizando los loaders de la parte anterior"
   ]
  },
  {
   "cell_type": "code",
   "execution_count": null,
   "id": "14",
   "metadata": {},
   "outputs": [],
   "source": [
    "nodos_oferta = NodosOferta(fo_db, rm_db)\n",
    "nodos_demanda = NodosDemanda(cliente_db)"
   ]
  },
  {
   "cell_type": "markdown",
   "id": "15",
   "metadata": {},
   "source": [
    "# Optimización"
   ]
  },
  {
   "cell_type": "markdown",
   "id": "16",
   "metadata": {},
   "source": [
    "Creamos una instancia del tercer solver, que se corresponde con el siguiente modelo:\n",
    "\\begin{equation}\n",
    "\\left\\{\\begin{array}{rll}\n",
    "\\max & \\sum_{i=1}^{n} \\sum_{j\\in N(i)} c_{ij} x_{ij} & \\\\\n",
    "\\mbox{s.a.} & \\sum_{j\\in N(i)} x_{ij} \\leq O_i.vac & \\forall i = 1:n \\\\\n",
    "& \\sum_{i \\in N(j)} x_{ij} = 1 & \\forall j = 1 : m \\\\\n",
    "& x_{ij} \\in \\{0, 1\\} &\n",
    "\\end{array}\\right.\n",
    "\\end{equation}\n",
    "\n",
    "Donde $N(i)$ son los vecinos del vértice $i$. Y consideramos a las aristas \n",
    "$$E = \\{\n",
    "ij \\ | \\ i \\in FO, \\ j=1:m, \\ O_i.\\mbox{dist}_1(D_j) \\leq C_{FO}\n",
    "\\} \\cup \\{\n",
    "ij \\ | \\ i \\in RM, \\ j=1:m, \\ O_i.\\mbox{dist}_2(D_j) \\leq C_{RM}\n",
    "\\}$$\n",
    "\n",
    "Además, interpretamos a la matriz $(c_{ij})_{ij}$ como una matriz de prioridad, donde se le dará mayor prioridad a la arista $ij$ en tanto tenga mayor $c_{ij}$. Consideramos la siguiente matriz:\n",
    "\\begin{equation}\n",
    "c_{ij}\n",
    "= \\begin{cases}\n",
    "\\frac{a}{O_i.\\mbox{dist}_1(D_j) + \\varepsilon} & i \\in FO \\\\\n",
    "\\frac{b}{O_i.\\mbox{dist}_2(D_j) + \\varepsilon} & i \\in RM \\\\\n",
    "0 & \\mbox{en cualquier otro caso}\n",
    "\\end{cases}\n",
    "\\end{equation}\n",
    "\n",
    "Intuitivamente, lo que hace es darle mayor prioridad a aquellos clientes que estén más cerca a cierta CTO o RM. "
   ]
  },
  {
   "cell_type": "code",
   "execution_count": null,
   "id": "17",
   "metadata": {},
   "outputs": [],
   "source": [
    "modelo3 = Solver3(nodos_oferta, nodos_demanda, a=2, b=1, c_fo=150, c_rm=600, verbose=True)\n",
    "modelo3.resolver()"
   ]
  },
  {
   "cell_type": "code",
   "execution_count": null,
   "id": "18",
   "metadata": {},
   "outputs": [],
   "source": [
    "modelo3.save(path.join(PATH_DATA, \"resultado.xlsx\"))"
   ]
  },
  {
   "cell_type": "markdown",
   "id": "19",
   "metadata": {},
   "source": [
    "Observamos que considerar este modelo reduce de casi un millón de variables a casi 4500, aumentando mucho la eficiencia en el tiempo."
   ]
  },
  {
   "cell_type": "code",
   "execution_count": null,
   "id": "20",
   "metadata": {},
   "outputs": [],
   "source": [
    "modelo1 = Solver1(nodos_oferta, nodos_demanda)\n",
    "modelo3 = Solver3(nodos_oferta, nodos_demanda)\n",
    "len(modelo1.x), len(modelo3.x)"
   ]
  }
 ],
 "metadata": {
  "kernelspec": {
   "display_name": "venv",
   "language": "python",
   "name": "venv"
  },
  "language_info": {
   "codemirror_mode": {
    "name": "ipython",
    "version": 3
   },
   "file_extension": ".py",
   "mimetype": "text/x-python",
   "name": "python",
   "nbconvert_exporter": "python",
   "pygments_lexer": "ipython3",
   "version": "3.9.7"
  }
 },
 "nbformat": 4,
 "nbformat_minor": 5
}
